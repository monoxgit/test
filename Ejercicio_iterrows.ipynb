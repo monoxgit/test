{
  "nbformat": 4,
  "nbformat_minor": 0,
  "metadata": {
    "colab": {
      "provenance": [],
      "authorship_tag": "ABX9TyPcYvAnzQi+pMsrjH9OMLiR",
      "include_colab_link": true
    },
    "kernelspec": {
      "name": "python3",
      "display_name": "Python 3"
    },
    "language_info": {
      "name": "python"
    }
  },
  "cells": [
    {
      "cell_type": "markdown",
      "metadata": {
        "id": "view-in-github",
        "colab_type": "text"
      },
      "source": [
        "<a href=\"https://colab.research.google.com/github/monoxgit/test/blob/master/Ejercicio_iterrows.ipynb\" target=\"_parent\"><img src=\"https://colab.research.google.com/assets/colab-badge.svg\" alt=\"Open In Colab\"/></a>"
      ]
    },
    {
      "cell_type": "markdown",
      "source": [
        "###Problem using iterrows\n",
        "\n",
        "`iterrows()` is a method in pandas, a popular data analysis library in Python. It is used to iterate over the rows of a DataFrame. Here's how it works:\n",
        "\n",
        "A DataFrame in pandas is a two-dimensional, size-mutable, and potentially heterogeneous tabular data structure with labeled axes (rows and columns). `iterrows()` is a way to loop through each row of a DataFrame one at a time. For each iteration, it returns an index and a pandas Series representing the row data.\n",
        "\n",
        "Here's an example of how you might use `iterrows()`:\n",
        "\n",
        "```python\n",
        "import pandas as pd\n",
        "\n",
        "data = {'Name': ['Alice', 'Bob', 'Charlie'],\n",
        "        'Age': [25, 30, 35],\n",
        "        'City': ['New York', 'San Francisco', 'Los Angeles']}\n",
        "\n",
        "df = pd.DataFrame(data)\n",
        "\n",
        "for index, row in df.iterrows():\n",
        "    print(index, row['Name'], row['Age'], row['City'])\n",
        "```\n",
        "\n",
        "In this example, `iterrows()` allows you to loop through the DataFrame `df` row by row, extracting and processing the data in each row.\n",
        "\n",
        "However, there are some important considerations to keep in mind when using `iterrows()`:\n",
        "\n",
        "1. **Performance**: `iterrows()` can be relatively slow, especially for large DataFrames. This is because it returns a copy of each row, and you are effectively converting the data into Python objects, which can be inefficient.\n",
        "\n",
        "2. **Indexing**: Be cautious when modifying data using `iterrows()`. Changes made to the row data within the loop won't affect the original DataFrame unless you explicitly update it. You should generally prefer vectorized operations and apply them to the entire DataFrame to maximize performance.\n",
        "\n",
        "3. **Alternative Approaches**: In most cases, there are more efficient and pandas-idiomatic ways to achieve the same result as using `iterrows()`. For example, you can use vectorized operations or the `apply()` function to perform operations on DataFrame rows without needing to loop through them.\n",
        "\n",
        "In summary, while `iterrows()` can be useful for iterating through the rows of a DataFrame, it is generally not the most efficient approach for data analysis tasks. It is recommended to explore alternative methods provided by pandas for better performance and readability in your data analysis workflows.\n",
        "\n",
        "            "
      ],
      "metadata": {
        "id": "V8w5gdIpbbZG"
      }
    },
    {
      "cell_type": "code",
      "execution_count": null,
      "metadata": {
        "colab": {
          "base_uri": "https://localhost:8080/"
        },
        "id": "Srf1drjq3rKX",
        "outputId": "cb8879fa-4425-40ac-e7ed-a01136689a04"
      },
      "outputs": [
        {
          "output_type": "stream",
          "name": "stdout",
          "text": [
            "        Fecha Producto  Monto\n",
            "0  2023-01-15        A   1000\n",
            "1  2023-01-20        B    500\n",
            "2  2023-02-10        A    800\n",
            "3  2023-02-12        B    600\n",
            "4  2023-03-05        A   1200\n",
            "5  2023-03-18        B    900\n"
          ]
        }
      ],
      "source": [
        "import pandas as pd\n",
        "\n",
        "data = {\n",
        "    'Fecha': ['2023-01-15', '2023-01-20', '2023-02-10', '2023-02-12', '2023-03-05', '2023-03-18'],\n",
        "    'Producto': ['A', 'B', 'A', 'B', 'A', 'B'],\n",
        "    'Monto': [1000, 500, 800, 600, 1200, 900]\n",
        "}\n",
        "\n",
        "df = pd.DataFrame(data)\n",
        "\n",
        "print(df)"
      ]
    },
    {
      "cell_type": "code",
      "source": [
        "df.info()"
      ],
      "metadata": {
        "colab": {
          "base_uri": "https://localhost:8080/"
        },
        "id": "PYZ0gr5F41Xk",
        "outputId": "b8f9ec45-24dc-443c-9f54-3137f8e6106e"
      },
      "execution_count": null,
      "outputs": [
        {
          "output_type": "stream",
          "name": "stdout",
          "text": [
            "<class 'pandas.core.frame.DataFrame'>\n",
            "RangeIndex: 6 entries, 0 to 5\n",
            "Data columns (total 3 columns):\n",
            " #   Column    Non-Null Count  Dtype \n",
            "---  ------    --------------  ----- \n",
            " 0   Fecha     6 non-null      object\n",
            " 1   Producto  6 non-null      object\n",
            " 2   Monto     6 non-null      int64 \n",
            "dtypes: int64(1), object(2)\n",
            "memory usage: 272.0+ bytes\n"
          ]
        }
      ]
    },
    {
      "cell_type": "code",
      "source": [
        "# convertir fecha a formato date\n",
        "df['Fecha'] = pd.to_datetime(df['Fecha'])"
      ],
      "metadata": {
        "id": "eGZJHaLs4lGp"
      },
      "execution_count": null,
      "outputs": []
    },
    {
      "cell_type": "code",
      "source": [
        "df.info()"
      ],
      "metadata": {
        "colab": {
          "base_uri": "https://localhost:8080/"
        },
        "id": "HcV9S0dA5OrN",
        "outputId": "87d66115-143e-4d94-dd16-82ec4ff9b448"
      },
      "execution_count": null,
      "outputs": [
        {
          "output_type": "stream",
          "name": "stdout",
          "text": [
            "<class 'pandas.core.frame.DataFrame'>\n",
            "RangeIndex: 6 entries, 0 to 5\n",
            "Data columns (total 3 columns):\n",
            " #   Column    Non-Null Count  Dtype         \n",
            "---  ------    --------------  -----         \n",
            " 0   Fecha     6 non-null      datetime64[ns]\n",
            " 1   Producto  6 non-null      object        \n",
            " 2   Monto     6 non-null      int64         \n",
            "dtypes: datetime64[ns](1), int64(1), object(1)\n",
            "memory usage: 272.0+ bytes\n"
          ]
        }
      ]
    },
    {
      "cell_type": "code",
      "source": [
        "df['Mes'] = df['Fecha'].dt.month"
      ],
      "metadata": {
        "id": "tfUscvvw5tR6"
      },
      "execution_count": null,
      "outputs": []
    },
    {
      "cell_type": "code",
      "source": [
        "df.info()"
      ],
      "metadata": {
        "colab": {
          "base_uri": "https://localhost:8080/"
        },
        "id": "F9vwONdg6TV5",
        "outputId": "31088bf8-621c-4ffc-bb91-5695f6b3ce4d"
      },
      "execution_count": null,
      "outputs": [
        {
          "output_type": "stream",
          "name": "stdout",
          "text": [
            "<class 'pandas.core.frame.DataFrame'>\n",
            "RangeIndex: 6 entries, 0 to 5\n",
            "Data columns (total 4 columns):\n",
            " #   Column    Non-Null Count  Dtype         \n",
            "---  ------    --------------  -----         \n",
            " 0   Fecha     6 non-null      datetime64[ns]\n",
            " 1   Producto  6 non-null      object        \n",
            " 2   Monto     6 non-null      int64         \n",
            " 3   Mes       6 non-null      int64         \n",
            "dtypes: datetime64[ns](1), int64(2), object(1)\n",
            "memory usage: 320.0+ bytes\n"
          ]
        }
      ]
    },
    {
      "cell_type": "code",
      "source": [
        "df\n",
        "\n"
      ],
      "metadata": {
        "colab": {
          "base_uri": "https://localhost:8080/",
          "height": 237
        },
        "id": "FHf9OITV6ahm",
        "outputId": "a9c3cb80-68fe-40a6-ed76-bf3cd6e5b5c1"
      },
      "execution_count": null,
      "outputs": [
        {
          "output_type": "execute_result",
          "data": {
            "text/plain": [
              "       Fecha Producto  Monto  Mes\n",
              "0 2023-01-15        A   1000    1\n",
              "1 2023-01-20        B    500    1\n",
              "2 2023-02-10        A    800    2\n",
              "3 2023-02-12        B    600    2\n",
              "4 2023-03-05        A   1200    3\n",
              "5 2023-03-18        B    900    3"
            ],
            "text/html": [
              "\n",
              "  <div id=\"df-06f724aa-25e5-47f6-a202-4486ac3972f7\" class=\"colab-df-container\">\n",
              "    <div>\n",
              "<style scoped>\n",
              "    .dataframe tbody tr th:only-of-type {\n",
              "        vertical-align: middle;\n",
              "    }\n",
              "\n",
              "    .dataframe tbody tr th {\n",
              "        vertical-align: top;\n",
              "    }\n",
              "\n",
              "    .dataframe thead th {\n",
              "        text-align: right;\n",
              "    }\n",
              "</style>\n",
              "<table border=\"1\" class=\"dataframe\">\n",
              "  <thead>\n",
              "    <tr style=\"text-align: right;\">\n",
              "      <th></th>\n",
              "      <th>Fecha</th>\n",
              "      <th>Producto</th>\n",
              "      <th>Monto</th>\n",
              "      <th>Mes</th>\n",
              "    </tr>\n",
              "  </thead>\n",
              "  <tbody>\n",
              "    <tr>\n",
              "      <th>0</th>\n",
              "      <td>2023-01-15</td>\n",
              "      <td>A</td>\n",
              "      <td>1000</td>\n",
              "      <td>1</td>\n",
              "    </tr>\n",
              "    <tr>\n",
              "      <th>1</th>\n",
              "      <td>2023-01-20</td>\n",
              "      <td>B</td>\n",
              "      <td>500</td>\n",
              "      <td>1</td>\n",
              "    </tr>\n",
              "    <tr>\n",
              "      <th>2</th>\n",
              "      <td>2023-02-10</td>\n",
              "      <td>A</td>\n",
              "      <td>800</td>\n",
              "      <td>2</td>\n",
              "    </tr>\n",
              "    <tr>\n",
              "      <th>3</th>\n",
              "      <td>2023-02-12</td>\n",
              "      <td>B</td>\n",
              "      <td>600</td>\n",
              "      <td>2</td>\n",
              "    </tr>\n",
              "    <tr>\n",
              "      <th>4</th>\n",
              "      <td>2023-03-05</td>\n",
              "      <td>A</td>\n",
              "      <td>1200</td>\n",
              "      <td>3</td>\n",
              "    </tr>\n",
              "    <tr>\n",
              "      <th>5</th>\n",
              "      <td>2023-03-18</td>\n",
              "      <td>B</td>\n",
              "      <td>900</td>\n",
              "      <td>3</td>\n",
              "    </tr>\n",
              "  </tbody>\n",
              "</table>\n",
              "</div>\n",
              "    <div class=\"colab-df-buttons\">\n",
              "\n",
              "  <div class=\"colab-df-container\">\n",
              "    <button class=\"colab-df-convert\" onclick=\"convertToInteractive('df-06f724aa-25e5-47f6-a202-4486ac3972f7')\"\n",
              "            title=\"Convert this dataframe to an interactive table.\"\n",
              "            style=\"display:none;\">\n",
              "\n",
              "  <svg xmlns=\"http://www.w3.org/2000/svg\" height=\"24px\" viewBox=\"0 -960 960 960\">\n",
              "    <path d=\"M120-120v-720h720v720H120Zm60-500h600v-160H180v160Zm220 220h160v-160H400v160Zm0 220h160v-160H400v160ZM180-400h160v-160H180v160Zm440 0h160v-160H620v160ZM180-180h160v-160H180v160Zm440 0h160v-160H620v160Z\"/>\n",
              "  </svg>\n",
              "    </button>\n",
              "\n",
              "  <style>\n",
              "    .colab-df-container {\n",
              "      display:flex;\n",
              "      gap: 12px;\n",
              "    }\n",
              "\n",
              "    .colab-df-convert {\n",
              "      background-color: #E8F0FE;\n",
              "      border: none;\n",
              "      border-radius: 50%;\n",
              "      cursor: pointer;\n",
              "      display: none;\n",
              "      fill: #1967D2;\n",
              "      height: 32px;\n",
              "      padding: 0 0 0 0;\n",
              "      width: 32px;\n",
              "    }\n",
              "\n",
              "    .colab-df-convert:hover {\n",
              "      background-color: #E2EBFA;\n",
              "      box-shadow: 0px 1px 2px rgba(60, 64, 67, 0.3), 0px 1px 3px 1px rgba(60, 64, 67, 0.15);\n",
              "      fill: #174EA6;\n",
              "    }\n",
              "\n",
              "    .colab-df-buttons div {\n",
              "      margin-bottom: 4px;\n",
              "    }\n",
              "\n",
              "    [theme=dark] .colab-df-convert {\n",
              "      background-color: #3B4455;\n",
              "      fill: #D2E3FC;\n",
              "    }\n",
              "\n",
              "    [theme=dark] .colab-df-convert:hover {\n",
              "      background-color: #434B5C;\n",
              "      box-shadow: 0px 1px 3px 1px rgba(0, 0, 0, 0.15);\n",
              "      filter: drop-shadow(0px 1px 2px rgba(0, 0, 0, 0.3));\n",
              "      fill: #FFFFFF;\n",
              "    }\n",
              "  </style>\n",
              "\n",
              "    <script>\n",
              "      const buttonEl =\n",
              "        document.querySelector('#df-06f724aa-25e5-47f6-a202-4486ac3972f7 button.colab-df-convert');\n",
              "      buttonEl.style.display =\n",
              "        google.colab.kernel.accessAllowed ? 'block' : 'none';\n",
              "\n",
              "      async function convertToInteractive(key) {\n",
              "        const element = document.querySelector('#df-06f724aa-25e5-47f6-a202-4486ac3972f7');\n",
              "        const dataTable =\n",
              "          await google.colab.kernel.invokeFunction('convertToInteractive',\n",
              "                                                    [key], {});\n",
              "        if (!dataTable) return;\n",
              "\n",
              "        const docLinkHtml = 'Like what you see? Visit the ' +\n",
              "          '<a target=\"_blank\" href=https://colab.research.google.com/notebooks/data_table.ipynb>data table notebook</a>'\n",
              "          + ' to learn more about interactive tables.';\n",
              "        element.innerHTML = '';\n",
              "        dataTable['output_type'] = 'display_data';\n",
              "        await google.colab.output.renderOutput(dataTable, element);\n",
              "        const docLink = document.createElement('div');\n",
              "        docLink.innerHTML = docLinkHtml;\n",
              "        element.appendChild(docLink);\n",
              "      }\n",
              "    </script>\n",
              "  </div>\n",
              "\n",
              "\n",
              "<div id=\"df-15a9e355-4479-4568-b7e9-4874ed55358c\">\n",
              "  <button class=\"colab-df-quickchart\" onclick=\"quickchart('df-15a9e355-4479-4568-b7e9-4874ed55358c')\"\n",
              "            title=\"Suggest charts.\"\n",
              "            style=\"display:none;\">\n",
              "\n",
              "<svg xmlns=\"http://www.w3.org/2000/svg\" height=\"24px\"viewBox=\"0 0 24 24\"\n",
              "     width=\"24px\">\n",
              "    <g>\n",
              "        <path d=\"M19 3H5c-1.1 0-2 .9-2 2v14c0 1.1.9 2 2 2h14c1.1 0 2-.9 2-2V5c0-1.1-.9-2-2-2zM9 17H7v-7h2v7zm4 0h-2V7h2v10zm4 0h-2v-4h2v4z\"/>\n",
              "    </g>\n",
              "</svg>\n",
              "  </button>\n",
              "\n",
              "<style>\n",
              "  .colab-df-quickchart {\n",
              "      --bg-color: #E8F0FE;\n",
              "      --fill-color: #1967D2;\n",
              "      --hover-bg-color: #E2EBFA;\n",
              "      --hover-fill-color: #174EA6;\n",
              "      --disabled-fill-color: #AAA;\n",
              "      --disabled-bg-color: #DDD;\n",
              "  }\n",
              "\n",
              "  [theme=dark] .colab-df-quickchart {\n",
              "      --bg-color: #3B4455;\n",
              "      --fill-color: #D2E3FC;\n",
              "      --hover-bg-color: #434B5C;\n",
              "      --hover-fill-color: #FFFFFF;\n",
              "      --disabled-bg-color: #3B4455;\n",
              "      --disabled-fill-color: #666;\n",
              "  }\n",
              "\n",
              "  .colab-df-quickchart {\n",
              "    background-color: var(--bg-color);\n",
              "    border: none;\n",
              "    border-radius: 50%;\n",
              "    cursor: pointer;\n",
              "    display: none;\n",
              "    fill: var(--fill-color);\n",
              "    height: 32px;\n",
              "    padding: 0;\n",
              "    width: 32px;\n",
              "  }\n",
              "\n",
              "  .colab-df-quickchart:hover {\n",
              "    background-color: var(--hover-bg-color);\n",
              "    box-shadow: 0 1px 2px rgba(60, 64, 67, 0.3), 0 1px 3px 1px rgba(60, 64, 67, 0.15);\n",
              "    fill: var(--button-hover-fill-color);\n",
              "  }\n",
              "\n",
              "  .colab-df-quickchart-complete:disabled,\n",
              "  .colab-df-quickchart-complete:disabled:hover {\n",
              "    background-color: var(--disabled-bg-color);\n",
              "    fill: var(--disabled-fill-color);\n",
              "    box-shadow: none;\n",
              "  }\n",
              "\n",
              "  .colab-df-spinner {\n",
              "    border: 2px solid var(--fill-color);\n",
              "    border-color: transparent;\n",
              "    border-bottom-color: var(--fill-color);\n",
              "    animation:\n",
              "      spin 1s steps(1) infinite;\n",
              "  }\n",
              "\n",
              "  @keyframes spin {\n",
              "    0% {\n",
              "      border-color: transparent;\n",
              "      border-bottom-color: var(--fill-color);\n",
              "      border-left-color: var(--fill-color);\n",
              "    }\n",
              "    20% {\n",
              "      border-color: transparent;\n",
              "      border-left-color: var(--fill-color);\n",
              "      border-top-color: var(--fill-color);\n",
              "    }\n",
              "    30% {\n",
              "      border-color: transparent;\n",
              "      border-left-color: var(--fill-color);\n",
              "      border-top-color: var(--fill-color);\n",
              "      border-right-color: var(--fill-color);\n",
              "    }\n",
              "    40% {\n",
              "      border-color: transparent;\n",
              "      border-right-color: var(--fill-color);\n",
              "      border-top-color: var(--fill-color);\n",
              "    }\n",
              "    60% {\n",
              "      border-color: transparent;\n",
              "      border-right-color: var(--fill-color);\n",
              "    }\n",
              "    80% {\n",
              "      border-color: transparent;\n",
              "      border-right-color: var(--fill-color);\n",
              "      border-bottom-color: var(--fill-color);\n",
              "    }\n",
              "    90% {\n",
              "      border-color: transparent;\n",
              "      border-bottom-color: var(--fill-color);\n",
              "    }\n",
              "  }\n",
              "</style>\n",
              "\n",
              "  <script>\n",
              "    async function quickchart(key) {\n",
              "      const quickchartButtonEl =\n",
              "        document.querySelector('#' + key + ' button');\n",
              "      quickchartButtonEl.disabled = true;  // To prevent multiple clicks.\n",
              "      quickchartButtonEl.classList.add('colab-df-spinner');\n",
              "      try {\n",
              "        const charts = await google.colab.kernel.invokeFunction(\n",
              "            'suggestCharts', [key], {});\n",
              "      } catch (error) {\n",
              "        console.error('Error during call to suggestCharts:', error);\n",
              "      }\n",
              "      quickchartButtonEl.classList.remove('colab-df-spinner');\n",
              "      quickchartButtonEl.classList.add('colab-df-quickchart-complete');\n",
              "    }\n",
              "    (() => {\n",
              "      let quickchartButtonEl =\n",
              "        document.querySelector('#df-15a9e355-4479-4568-b7e9-4874ed55358c button');\n",
              "      quickchartButtonEl.style.display =\n",
              "        google.colab.kernel.accessAllowed ? 'block' : 'none';\n",
              "    })();\n",
              "  </script>\n",
              "</div>\n",
              "    </div>\n",
              "  </div>\n"
            ]
          },
          "metadata": {},
          "execution_count": 18
        }
      ]
    },
    {
      "cell_type": "code",
      "source": [
        "# inicilaizar un diccionario para calcular los totales\n",
        "total_de_ventas_por_producto = {}"
      ],
      "metadata": {
        "id": "i-KuZg5m4AAJ"
      },
      "execution_count": null,
      "outputs": []
    },
    {
      "cell_type": "code",
      "source": [
        "\n",
        "# Calcular lo totales con iterrows\n",
        "for index, row in df.iterrows():\n",
        "  producto =  row[\"Producto\"]\n",
        "  mes = row[\"Fecha\"].strftime('%Y-%m')\n",
        "  monto = row[\"Monto\"]\n",
        "\n",
        "  clave = (producto, mes)\n",
        "\n",
        "  if clave in total_de_ventas_por_producto:\n",
        "      total_de_ventas_por_producto[clave] += monto\n",
        "  else:\n",
        "      total_de_ventas_por_producto[clave] = monto\n"
      ],
      "metadata": {
        "id": "1TCHorci7nk5"
      },
      "execution_count": null,
      "outputs": []
    },
    {
      "cell_type": "code",
      "source": [
        "print(total_de_ventas_por_producto)"
      ],
      "metadata": {
        "colab": {
          "base_uri": "https://localhost:8080/"
        },
        "id": "D77zEOFhd0PZ",
        "outputId": "ed922dce-be4e-4752-a57a-bf925dedbce6"
      },
      "execution_count": null,
      "outputs": [
        {
          "output_type": "stream",
          "name": "stdout",
          "text": [
            "{('A', '2023-01'): 2000, ('B', '2023-01'): 1000, ('A', '2023-02'): 1600, ('B', '2023-02'): 1200, ('A', '2023-03'): 2400, ('B', '2023-03'): 1800}\n"
          ]
        }
      ]
    },
    {
      "cell_type": "code",
      "source": [
        "# Mostrar los totales de ventas por producto y mes\n",
        "\n",
        "for (producto, mes), total in total_de_ventas_por_producto.items():\n",
        "  print(f'Producto: {producto}, Mes: {mes} , Total de ventas: {total}')"
      ],
      "metadata": {
        "colab": {
          "base_uri": "https://localhost:8080/"
        },
        "id": "GbWah_lbdcxn",
        "outputId": "993786f9-d070-4ec1-b3d9-4c49141f7fb1"
      },
      "execution_count": null,
      "outputs": [
        {
          "output_type": "stream",
          "name": "stdout",
          "text": [
            "Producto: A, Mes: 2023-01 , Total de ventas: 1000\n",
            "Producto: B, Mes: 2023-01 , Total de ventas: 500\n",
            "Producto: A, Mes: 2023-02 , Total de ventas: 800\n",
            "Producto: B, Mes: 2023-02 , Total de ventas: 600\n",
            "Producto: A, Mes: 2023-03 , Total de ventas: 1200\n",
            "Producto: B, Mes: 2023-03 , Total de ventas: 900\n"
          ]
        }
      ]
    },
    {
      "cell_type": "markdown",
      "source": [
        "## Take to home\n",
        "\n",
        "- loops\n",
        "- diccionarios\n",
        "-"
      ],
      "metadata": {
        "id": "2rrf61pCbZ6O"
      }
    },
    {
      "cell_type": "markdown",
      "source": [
        "GLOSARIO\n",
        "\n",
        "Algunas de las funciones o métodos utilizados aquí.\n",
        "\n"
      ],
      "metadata": {
        "id": "HVCRkWqzdO2E"
      }
    },
    {
      "cell_type": "markdown",
      "source": [
        "## strftime\n",
        "\n",
        "The `strftime` function is used in Python to format dates and times. The format string `'%Y-%m'` represents a specific date format, where:\n",
        "\n",
        "- `%Y` represents the year with century as a decimal number.\n",
        "- `-` is a literal hyphen character.\n",
        "- `%m` represents the month as a zero-padded decimal number.\n",
        "\n",
        "When you use `strftime('%Y-%m')` with a date, it will format the date in the \"YYYY-MM\" format, where \"YYYY\" represents the year with century, and \"MM\" represents the zero-padded month.\n",
        "\n",
        "Here's an example of how to use it in Python:\n",
        "\n",
        "```python\n",
        "from datetime import datetime\n",
        "\n",
        "current_date = datetime.now()\n",
        "formatted_date = current_date.strftime('%Y-%m')\n",
        "print(formatted_date)\n",
        "```\n",
        "\n",
        "This code will print the current date in the \"YYYY-MM\" format, like \"2023-10\" for October 2023."
      ],
      "metadata": {
        "id": "SRKAoLrxbGpt"
      }
    }
  ]
}